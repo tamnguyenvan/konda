{
  "cells": [
    {
      "cell_type": "markdown",
      "source": [
        "# Konda - Quick Start Guide\n",
        "\n",
        "## 🐍 Conda Installer/Wrapper for Google Colab 🚀\n",
        "\n",
        "This notebook provides a quick start guide to using Konda in Google Colab.\n",
        "\n",
        "## Installation"
      ],
      "metadata": {
        "id": "mgHKK5l2cTtg"
      }
    },
    {
      "cell_type": "code",
      "source": [
        "!pip install konda"
      ],
      "metadata": {
        "id": "f1DET-uka1L4"
      },
      "execution_count": null,
      "outputs": []
    },
    {
      "cell_type": "markdown",
      "source": [
        "## Setup Miniconda"
      ],
      "metadata": {
        "id": "Xtqz4ct8ce66"
      }
    },
    {
      "cell_type": "code",
      "source": [
        "import konda\n",
        "konda.install()"
      ],
      "metadata": {
        "id": "9mhWjVDZa1RE"
      },
      "execution_count": null,
      "outputs": []
    },
    {
      "cell_type": "markdown",
      "source": [
        "## Basic Usage\n",
        "\n",
        "Konda is a simple wrapper around conda. Just replace `conda` with `konda` in any conda command."
      ],
      "metadata": {
        "id": "JBYkl0PrfYi7"
      }
    },
    {
      "cell_type": "code",
      "source": [
        "# Create an environment\n",
        "!konda create -n tf_env python=3.8 -y\n",
        "\n",
        "# Activate an environment\n",
        "!konda activate tf_env\n",
        "\n",
        "# Run commands in the activated environment\n",
        "!konda run \"pip install tensorflow==2.4.0\"\n",
        "!konda run \"python -c 'import tensorflow as tf; print(tf.__version__)'\""
      ],
      "metadata": {
        "id": "tUd_TJSicFFs"
      },
      "execution_count": null,
      "outputs": []
    },
    {
      "cell_type": "markdown",
      "source": [
        "## Complete Example: Setting up a TensorFlow Environment"
      ],
      "metadata": {
        "id": "XYTMIWx6gKYB"
      }
    },
    {
      "cell_type": "code",
      "source": [
        "%%writefile tf_mnist.py\n",
        "# Training a neural network on MNIST with Keras: https://www.tensorflow.org/datasets/keras_example\n",
        "import tensorflow as tf\n",
        "import tensorflow_datasets as tfds\n",
        "\n",
        "(ds_train, ds_test), ds_info = tfds.load(\n",
        "    'mnist',\n",
        "    split=['train', 'test'],\n",
        "    shuffle_files=True,\n",
        "    as_supervised=True,\n",
        "    with_info=True,\n",
        ")\n",
        "\n",
        "def normalize_img(image, label):\n",
        "  \"\"\"Normalizes images: `uint8` -> `float32`.\"\"\"\n",
        "  return tf.cast(image, tf.float32) / 255., label\n",
        "\n",
        "ds_train = ds_train.map(\n",
        "    normalize_img, num_parallel_calls=tf.data.AUTOTUNE)\n",
        "ds_train = ds_train.cache()\n",
        "ds_train = ds_train.shuffle(ds_info.splits['train'].num_examples)\n",
        "ds_train = ds_train.batch(128)\n",
        "ds_train = ds_train.prefetch(tf.data.AUTOTUNE)\n",
        "\n",
        "ds_test = ds_test.map(\n",
        "    normalize_img, num_parallel_calls=tf.data.AUTOTUNE)\n",
        "ds_test = ds_test.batch(128)\n",
        "ds_test = ds_test.cache()\n",
        "ds_test = ds_test.prefetch(tf.data.AUTOTUNE)\n",
        "\n",
        "model = tf.keras.models.Sequential([\n",
        "  tf.keras.layers.Flatten(input_shape=(28, 28)),\n",
        "  tf.keras.layers.Dense(128, activation='relu'),\n",
        "  tf.keras.layers.Dense(10)\n",
        "])\n",
        "model.compile(\n",
        "    optimizer=tf.keras.optimizers.Adam(0.001),\n",
        "    loss=tf.keras.losses.SparseCategoricalCrossentropy(from_logits=True),\n",
        "    metrics=[tf.keras.metrics.SparseCategoricalAccuracy()],\n",
        ")\n",
        "\n",
        "model.fit(\n",
        "    ds_train,\n",
        "    epochs=6,\n",
        "    validation_data=ds_test,\n",
        ")"
      ],
      "metadata": {
        "id": "cXB-vCprgMsB"
      },
      "execution_count": null,
      "outputs": []
    },
    {
      "cell_type": "code",
      "source": [
        "!konda create -n tf_env python=3.8 -y\n",
        "!konda activate tf_env\n",
        "!konda run \"conda install anaconda::tensorflow-gpu=2.4.1 -y && pip install tensorflow_datasets\"\n",
        "!konda run \"python tf_mnist.py\""
      ],
      "metadata": {
        "id": "qf6voNHNgOxd"
      },
      "execution_count": null,
      "outputs": []
    },
    {
      "cell_type": "markdown",
      "source": [
        "## Cleanup"
      ],
      "metadata": {
        "id": "Spf3PJwqgR6z"
      }
    },
    {
      "cell_type": "code",
      "source": [
        "# Deactivate\n",
        "!konda deactivate\n",
        "\n",
        "# Remove Miniconda installation when done\n",
        "!konda uninstall"
      ],
      "metadata": {
        "id": "TemuUN14gTVt"
      },
      "execution_count": null,
      "outputs": []
    },
    {
      "cell_type": "markdown",
      "source": [
        "That's it! Konda makes conda easy to use in Google Colab."
      ],
      "metadata": {
        "id": "y3Job_R4gUmp"
      }
    }
  ],
  "metadata": {
    "colab": {
      "provenance": [],
      "gpuType": "T4"
    },
    "kernelspec": {
      "display_name": "Python 3",
      "name": "python3"
    },
    "language_info": {
      "name": "python"
    },
    "accelerator": "GPU"
  },
  "nbformat": 4,
  "nbformat_minor": 0
}